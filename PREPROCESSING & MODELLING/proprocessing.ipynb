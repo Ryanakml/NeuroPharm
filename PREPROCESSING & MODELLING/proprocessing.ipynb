{
 "cells": [
  {
   "cell_type": "markdown",
   "id": "dfbd34a9",
   "metadata": {},
   "source": [
    "# Feature Engineering - Mengajari Mesin \"Melihat\" Molekul\n",
    "\n",
    "bayangin gini: kita pengen mesin ngerti molekul, tapi mesin nggak bisa liat gambar atau diagram kimia kayak kita. Mesin cuma ngerti angka. Jadi kita harus ubah molekul itu jadi bahasa angka, alias vektor numerik. Nah, proses ngeubah molekul jadi angka ini yang namanya feature engineering.\n",
    "\n",
    "## Merepresentasikan Molekul (Ligan)\n",
    "\n",
    "Ada dua cara utama yang akan kita gunakan untuk merepresentasikan ligan.\n",
    "\n",
    "### Morgan Fingerprints (untuk Model Baseline)\n",
    "\n",
    "Salah satu cara paling simpel tapi powerful buat ligan (molekul kecil yang bisa nempel ke protein target) itu pake Morgan Fingerprints. Bayangin vektornya kayak rangkaian kotak kecil, masing-masing kotak bisa 0 atau 1. Setiap kotak itu bilang “ada nggak sih potongan kimia tertentu di molekul ini?” Jadi mesin nggak perlu liat gambarnya, dia cuma liat pola 0 dan 1 yang nunjukin struktur kimianya.\n",
    "\n",
    "Morgan Fingerprints ini agak spesial karena dia nggak cuma liat atom satu per satu, tapi liat lingkungan sekeliling tiap atom sampai radius tertentu—kayak “gimana tetangga-tetangga atom ini”. Dengan cara ini, mesin bisa nangkep fitur lokal penting yang biasanya menentukan apakah molekul itu aktif atau nggak terhadap target biologis. Konsepnya mirip sama ECFP (Extended-Connectivity Fingerprints), yang udah terbukti jitu buat prediksi aktivitas obat.\n",
    "\n",
    "Dengan representasi ini, kita udah ngajarin mesin “melihat” molekul tanpa harus paham kimia tingkat tinggi. Mesin bisa belajar dari pola-pola biner itu untuk nebak molekul mana yang mungkin bereaksi dengan protein target, yang artinya kita bisa mempercepat proses nemuin calon obat potensial. Tanpa ini, AI cuma bengong, nggak ngerti struktur molekul sama sekali."
   ]
  },
  {
   "cell_type": "code",
   "execution_count": 16,
   "id": "0371fd9d",
   "metadata": {},
   "outputs": [],
   "source": [
    "!pip3.11 install -q numpy==1.26.4 pandas scipy --upgrade --no-cache-dir"
   ]
  },
  {
   "cell_type": "code",
   "execution_count": null,
   "id": "2ff75248",
   "metadata": {},
   "outputs": [],
   "source": []
  },
  {
   "cell_type": "code",
   "execution_count": 1,
   "id": "9a4096b9",
   "metadata": {},
   "outputs": [],
   "source": [
    "from tqdm import tqdm\n",
    "import numpy as np\n",
    "import pandas as pd\n",
    "from rdkit.Chem import rdFingerprintGenerator\n",
    "\n",
    "final_df = pd.read_csv('../data/EGFR_bioactivity_cleaned.csv')\n",
    "\n",
    "def generate_morgan_fingerprints(smiles_list, radius=2, n_bits=2048):\n",
    "    \"\"\"\n",
    "    Menghasilkan Morgan fingerprints dari daftar SMILES pakai API baru RDKit.\n",
    "    \"\"\"\n",
    "    gen = rdFingerprintGenerator.GetMorganGenerator(radius=radius, fpSize=n_bits)\n",
    "\n",
    "    fingerprints = []\n",
    "    failed_count = 0\n",
    "    \n",
    "    for smiles in tqdm(smiles_list, desc=\"Generating Fingerprints\"):\n",
    "        try:\n",
    "            mol = Chem.MolFromSmiles(smiles)\n",
    "            if mol is not None:\n",
    "                fp = gen.GetFingerprint(mol)          # hasil langsung fingerprint generator\n",
    "                arr = np.zeros((1,), dtype=int)\n",
    "                Chem.DataStructs.ConvertToNumpyArray(fp, arr)\n",
    "                fingerprints.append(arr)\n",
    "            else:\n",
    "                fingerprints.append(np.zeros(n_bits, dtype=int))\n",
    "                failed_count += 1\n",
    "        except Exception:\n",
    "            fingerprints.append(np.zeros(n_bits, dtype=int))\n",
    "            failed_count += 1\n",
    "    \n",
    "    print(f\"SMILES gagal parse: {failed_count}\")\n",
    "    return np.array(fingerprints)"
   ]
  },
  {
   "cell_type": "markdown",
   "id": "03b15003",
   "metadata": {},
   "source": [
    "### Representasi Graf (untuk GNN)\n",
    "\n",
    "sekarang kita masuk ke level berikutnya, yang lebih canggih dari Morgan Fingerprints. Jadi bayangin molekul nggak cuma sebagai gambar 2D atau rangkaian 0-1, tapi sebagai graf. Graf itu konsep matematika, dimana atom-atom jadi node (simpul) dan ikatan kimia jadi edge (sisi) yang nyambungin node-node itu.\n",
    "\n",
    "Dengan cara ini, kita nggak kehilangan info penting tentang topologi molekul—misal, atom mana yang nyambung ke siapa, atau ada cincin aromatik nggak. Ini penting banget, soalnya kadang urutan dan koneksi antar atom menentukan aktivitas molekul lebih dari sekadar substruktur lokal yang ditangkap fingerprint.\n",
    "\n",
    "Nah, biar mesin bisa ngerti graf ini, kita ubah molekul RDKit jadi objek Data dari PyTorch Geometric, yang memang standar buat Graph Neural Network (GNN). Dalam objek ini ada beberapa bagian:\n",
    "- x: ini matriks fitur untuk tiap node/atom. Setiap baris nyimpen info atom itu—nomor atom, muatan, jumlah hidrogen, aromatik atau nggak, dan fitur lain. Jadi tiap atom punya “identitasnya” dalam angka.\n",
    "- edge_index: ini nyimpen koneksi antar atom. Bayangin daftar pasangan indeks atom yang nyambung, jadi mesin ngerti siapa nyambung sama siapa.\n",
    "- edge_attr: ini fitur untuk tiap edge/ikatan. Misal ikatannya tunggal, ganda, rangkap tiga, atau aromatik. Jadi mesin bisa ngerti “jenis koneksi” antar atom."
   ]
  },
  {
   "cell_type": "code",
   "execution_count": 2,
   "id": "dceb1549",
   "metadata": {},
   "outputs": [
    {
     "name": "stdout",
     "output_type": "stream",
     "text": [
      "\n",
      "\u001b[1m[\u001b[0m\u001b[34;49mnotice\u001b[0m\u001b[1;39;49m]\u001b[0m\u001b[39;49m A new release of pip is available: \u001b[0m\u001b[31;49m25.1.1\u001b[0m\u001b[39;49m -> \u001b[0m\u001b[32;49m25.2\u001b[0m\n",
      "\u001b[1m[\u001b[0m\u001b[34;49mnotice\u001b[0m\u001b[1;39;49m]\u001b[0m\u001b[39;49m To update, run: \u001b[0m\u001b[32;49m/opt/homebrew/opt/python@3.11/bin/python3.11 -m pip install --upgrade pip\u001b[0m\n",
      "\u001b[33m  DEPRECATION: Building 'torch-scatter' using the legacy setup.py bdist_wheel mechanism, which will be removed in a future version. pip 25.3 will enforce this behaviour change. A possible replacement is to use the standardized build interface by setting the `--use-pep517` option, (possibly combined with `--no-build-isolation`), or adding a `pyproject.toml` file to the source tree of 'torch-scatter'. Discussion can be found at https://github.com/pypa/pip/issues/6334\u001b[0m\u001b[33m\n",
      "\u001b[0m\u001b[33m  DEPRECATION: Building 'torch-sparse' using the legacy setup.py bdist_wheel mechanism, which will be removed in a future version. pip 25.3 will enforce this behaviour change. A possible replacement is to use the standardized build interface by setting the `--use-pep517` option, (possibly combined with `--no-build-isolation`), or adding a `pyproject.toml` file to the source tree of 'torch-sparse'. Discussion can be found at https://github.com/pypa/pip/issues/6334\u001b[0m\u001b[33m\n",
      "\u001b[0m\u001b[33m  DEPRECATION: Building 'torch-cluster' using the legacy setup.py bdist_wheel mechanism, which will be removed in a future version. pip 25.3 will enforce this behaviour change. A possible replacement is to use the standardized build interface by setting the `--use-pep517` option, (possibly combined with `--no-build-isolation`), or adding a `pyproject.toml` file to the source tree of 'torch-cluster'. Discussion can be found at https://github.com/pypa/pip/issues/6334\u001b[0m\u001b[33m\n",
      "\u001b[0m\u001b[33m  DEPRECATION: Building 'torch-spline-conv' using the legacy setup.py bdist_wheel mechanism, which will be removed in a future version. pip 25.3 will enforce this behaviour change. A possible replacement is to use the standardized build interface by setting the `--use-pep517` option, (possibly combined with `--no-build-isolation`), or adding a `pyproject.toml` file to the source tree of 'torch-spline-conv'. Discussion can be found at https://github.com/pypa/pip/issues/6334\u001b[0m\u001b[33m\n",
      "\u001b[0m\n",
      "\u001b[1m[\u001b[0m\u001b[34;49mnotice\u001b[0m\u001b[1;39;49m]\u001b[0m\u001b[39;49m A new release of pip is available: \u001b[0m\u001b[31;49m25.1.1\u001b[0m\u001b[39;49m -> \u001b[0m\u001b[32;49m25.2\u001b[0m\n",
      "\u001b[1m[\u001b[0m\u001b[34;49mnotice\u001b[0m\u001b[1;39;49m]\u001b[0m\u001b[39;49m To update, run: \u001b[0m\u001b[32;49m/opt/homebrew/opt/python@3.11/bin/python3.11 -m pip install --upgrade pip\u001b[0m\n",
      "\n",
      "\u001b[1m[\u001b[0m\u001b[34;49mnotice\u001b[0m\u001b[1;39;49m]\u001b[0m\u001b[39;49m A new release of pip is available: \u001b[0m\u001b[31;49m25.1.1\u001b[0m\u001b[39;49m -> \u001b[0m\u001b[32;49m25.2\u001b[0m\n",
      "\u001b[1m[\u001b[0m\u001b[34;49mnotice\u001b[0m\u001b[1;39;49m]\u001b[0m\u001b[39;49m To update, run: \u001b[0m\u001b[32;49m/opt/homebrew/opt/python@3.11/bin/python3.11 -m pip install --upgrade pip\u001b[0m\n"
     ]
    }
   ],
   "source": [
    "# PyTorch CPU-only\n",
    "!pip3.11 install -q torch torchvision torchaudio --index-url https://download.pytorch.org/whl/cpu\n",
    "\n",
    "# PyTorch Geometric + dependensi\n",
    "!pip3.11 install -q torch-scatter torch-sparse torch-cluster torch-spline-conv torch-geometric --no-cache-dir\n",
    "\n",
    "# Library lain\n",
    "!pip3.11 install -q numpy pandas matplotlib seaborn tqdm rdkit biopython chembl_webresource_client transformers nglview"
   ]
  },
  {
   "cell_type": "code",
   "execution_count": 4,
   "id": "7b5e80c8",
   "metadata": {},
   "outputs": [
    {
     "name": "stdout",
     "output_type": "stream",
     "text": [
      "2.8.0\n"
     ]
    }
   ],
   "source": [
    "import torch\n",
    "print(torch.__version__)"
   ]
  },
  {
   "cell_type": "code",
   "execution_count": 9,
   "id": "6d72c03b",
   "metadata": {},
   "outputs": [],
   "source": [
    "!pip install -q torch==2.8.0\n",
    "!pip install -q torch_geometric\n"
   ]
  },
  {
   "cell_type": "code",
   "execution_count": 10,
   "id": "88dde7fd",
   "metadata": {},
   "outputs": [
    {
     "name": "stdout",
     "output_type": "stream",
     "text": [
      "Data(x=[3, 6], edge_index=[2, 4], edge_attr=[4, 3])\n"
     ]
    }
   ],
   "source": [
    "# RDKit & PyTorch\n",
    "from rdkit import Chem\n",
    "import torch\n",
    "\n",
    "# PyTorch Geometric\n",
    "from torch_geometric.data import Data\n",
    "\n",
    "# Fungsi membuat fitur atom dan ikatan\n",
    "def atom_features(atom):\n",
    "    \"\"\"\n",
    "    Membuat fitur atom berbasis properti dasar.\n",
    "    \"\"\"\n",
    "    return [\n",
    "        atom.GetAtomicNum(),               # Nomor atom\n",
    "        atom.GetTotalDegree(),             # Derajat (jumlah ikatan)\n",
    "        atom.GetFormalCharge(),            # Muatan formal\n",
    "        atom.GetTotalNumHs(),              # Jumlah H terikat\n",
    "        atom.GetTotalValence(),         # Valensi implisit\n",
    "        int(atom.GetIsAromatic()),         # Aromatik atau tidak (0/1)\n",
    "    ]\n",
    "\n",
    "def bond_features(bond):\n",
    "    \"\"\"\n",
    "    Membuat fitur ikatan berbasis tipe ikatan.\n",
    "    \"\"\"\n",
    "    return [\n",
    "        bond.GetBondTypeAsDouble(),        # Tipe ikatan (1.0, 2.0, 3.0)\n",
    "        int(bond.GetIsConjugated()),       # Apakah ikatan terkonjugasi\n",
    "        int(bond.IsInRing()),              # Apakah ikatan dalam ring\n",
    "    ]\n",
    "\n",
    "def smiles_to_pyg_graph(smiles):\n",
    "    mol = Chem.MolFromSmiles(smiles)\n",
    "\n",
    "    # Node features\n",
    "    atom_features_list = [atom_features(atom) for atom in mol.GetAtoms()]\n",
    "    x = torch.tensor(atom_features_list, dtype=torch.float)\n",
    "\n",
    "    # Edge index & edge features\n",
    "    edge_indices = []\n",
    "    edge_attrs = []\n",
    "    for bond in mol.GetBonds():\n",
    "        i = bond.GetBeginAtomIdx()\n",
    "        j = bond.GetEndAtomIdx()\n",
    "\n",
    "        bf = bond_features(bond)\n",
    "\n",
    "        # dua arah\n",
    "        edge_indices.append((i, j))\n",
    "        edge_indices.append((j, i))\n",
    "        edge_attrs.append(bf)\n",
    "        edge_attrs.append(bf)\n",
    "\n",
    "    edge_index = torch.tensor(edge_indices, dtype=torch.long).t().contiguous()\n",
    "    edge_attr = torch.tensor(edge_attrs, dtype=torch.float)\n",
    "\n",
    "    return Data(x=x, edge_index=edge_index, edge_attr=edge_attr)\n",
    "\n",
    "# Contoh\n",
    "contoh_graf = smiles_to_pyg_graph(\"CCO\")  # Etanol\n",
    "print(contoh_graf)"
   ]
  },
  {
   "cell_type": "markdown",
   "id": "a0329027",
   "metadata": {},
   "source": [
    "Hasil akhirnya bakal kayak gini: Data(x=[3,6], edge_index=[2,4], edge_attr=[4,3]). Artinya mesin punya semua info atom dan ikatan dalam format yang siap dipelajari GNN.\n",
    "\n",
    "Dengan representasi graf, mesin bisa “ngeliat” molekul hampir kayak cara manusia kimia liatnya—dia bisa nangkep pola konektivitas, cincin aromatik, dan fitur topologi yang penting buat aktivitas biologis. Ini bikin prediksi AI lebih akurat dibanding cuma pakai fingerprint, karena GNN bisa belajar interaksi kompleks antar atom, bukan cuma “ada potongan A, ada potongan B”. Dengan ini, peluang nemuin calon obat potensial meningkat karena model bener-bener ngerti struktur molekul, bukan cuma polanya di atas kertas."
   ]
  },
  {
   "cell_type": "markdown",
   "id": "89e9e631",
   "metadata": {},
   "source": [
    "## Memahami Bahasa Protein (Target)\n",
    "\n",
    "sekarang kita ngobrolin sisi protein, alias target obatnya. Sama kayak ligan, mesin nggak ngerti sekuens protein mentah kayak kita baca huruf. Jadi kita harus ubah protein jadi bahasa yang bisa dimengerti mesin—angka juga.\n",
    "\n",
    "### Protein Language Models (PLMs) & ESM-2\n",
    " \n",
    "Bayangin sekuens asam amino protein itu kayak kalimat panjang. Tiap asam amino itu “kata”-nya. Nah, Protein Language Models (PLMs) kayak ESM-2 itu dilatih mirip kayak model bahasa manusia—tapi ini dilatih di jutaan kalimat protein dari database besar kayak UniProt. Dari pelatihan itu, model belajar “tata bahasa biologi”: pola-pola yang bikin sekuens bisa melipat ke struktur 3D, nyusun situs aktif, dan menentukan fungsi biologisnya.\n",
    "\n",
    "Hasilnya disebut embedding, yaitu vektor numerik berdimensi tinggi yang merangkum semua info penting protein—kayak resume lengkap protein itu dalam angka. Kerennya, kita nggak perlu struktur 3D eksperimental, yang sering susah atau nggak ada. Cukup sekuens 1D aja, mesin udah bisa ngerti banyak hal tentang protein.\n",
    "\n",
    "Praktisnya, kita pakai library transformers dari Hugging Face, load model ESM-2 (esm2_t33_650M_UR50D), terus extract embedding protein target kita, misal EGFR. Embedding ini nanti bisa digabung sama fitur ligan (Morgan Fingerprints atau graf) biar model bisa prediksi interaksi ligan-protein."
   ]
  },
  {
   "cell_type": "code",
   "execution_count": 16,
   "id": "d8359cc0",
   "metadata": {},
   "outputs": [
    {
     "name": "stdout",
     "output_type": "stream",
     "text": [
      "\n",
      "\u001b[1m[\u001b[0m\u001b[34;49mnotice\u001b[0m\u001b[1;39;49m]\u001b[0m\u001b[39;49m A new release of pip is available: \u001b[0m\u001b[31;49m25.1.1\u001b[0m\u001b[39;49m -> \u001b[0m\u001b[32;49m25.2\u001b[0m\n",
      "\u001b[1m[\u001b[0m\u001b[34;49mnotice\u001b[0m\u001b[1;39;49m]\u001b[0m\u001b[39;49m To update, run: \u001b[0m\u001b[32;49m/opt/homebrew/opt/python@3.11/bin/python3.11 -m pip install --upgrade pip\u001b[0m\n"
     ]
    }
   ],
   "source": [
    "!pip3.11 install -q biopython transformers"
   ]
  },
  {
   "cell_type": "code",
   "execution_count": 11,
   "id": "036989b4",
   "metadata": {},
   "outputs": [
    {
     "name": "stdout",
     "output_type": "stream",
     "text": [
      "Sekuens Protein (100 pertama):\n",
      "GEAPNQALLRILKETEFKKIKVLGSGAFGTVYKGLWIPEGEKVKIPVAIKEATSPKANKEILDEAYVMASVDNPHVCRLLGICLTSTVQLITQLMPFGCL...\n"
     ]
    },
    {
     "name": "stderr",
     "output_type": "stream",
     "text": [
      "Some weights of EsmModel were not initialized from the model checkpoint at facebook/esm2_t33_650M_UR50D and are newly initialized: ['pooler.dense.bias', 'pooler.dense.weight']\n",
      "You should probably TRAIN this model on a down-stream task to be able to use it for predictions and inference.\n"
     ]
    },
    {
     "name": "stdout",
     "output_type": "stream",
     "text": [
      "\n",
      "Bentuk Protein Embedding: torch.Size([1280])\n"
     ]
    }
   ],
   "source": [
    "# Basic\n",
    "import torch\n",
    "\n",
    "# Bioinformatics\n",
    "from Bio.PDB import PDBParser\n",
    "from Bio.Data import IUPACData\n",
    "\n",
    "# Transformers (ESM-2)\n",
    "from transformers import AutoTokenizer, EsmModel\n",
    "\n",
    "# Fungsi mapping 3-letter ke 1-letter amino acid\n",
    "three_to_one = {k.upper(): v for k, v in IUPACData.protein_letters_3to1.items()}\n",
    "\n",
    "def get_protein_sequence_from_pdb(pdb_file):\n",
    "    \"\"\"\n",
    "    Mengekstrak sekuens asam amino dari file PDB.\n",
    "    \"\"\"\n",
    "    parser = PDBParser(QUIET=True)\n",
    "    structure = parser.get_structure('protein', pdb_file)\n",
    "    sequences = []\n",
    "\n",
    "    for chain in structure.get_chains():\n",
    "        seq = \"\"\n",
    "        for residue in chain:\n",
    "            resname = residue.get_resname().upper()\n",
    "            if resname in three_to_one:\n",
    "                seq += three_to_one[resname]\n",
    "        if seq:\n",
    "            sequences.append(seq)\n",
    "\n",
    "    # Gunakan sekuens terpanjang sebagai representasi\n",
    "    return max(sequences, key=len) if sequences else None\n",
    "\n",
    "def get_protein_embedding(sequence, model_name=\"facebook/esm2_t33_650M_UR50D\"):\n",
    "    \"\"\"\n",
    "    Menghasilkan embedding untuk sekuens protein menggunakan model ESM-2.\n",
    "    \"\"\"\n",
    "    tokenizer = AutoTokenizer.from_pretrained(model_name)\n",
    "    model = EsmModel.from_pretrained(model_name)\n",
    "\n",
    "    inputs = tokenizer(sequence, return_tensors=\"pt\", add_special_tokens=True)\n",
    "\n",
    "    with torch.no_grad():\n",
    "        outputs = model(**inputs)\n",
    "\n",
    "    # Gunakan embedding dari token CLS (posisi 0)\n",
    "    embedding = outputs.last_hidden_state[:, 0, :].squeeze()\n",
    "    return embedding\n",
    "\n",
    "# Contoh penggunaan\n",
    "pdb_file = \"../data/pdb/pdb2gs2.ent\"  # path ke file PDB\n",
    "protein_sequence = get_protein_sequence_from_pdb(pdb_file)\n",
    "\n",
    "if protein_sequence:\n",
    "    print(f\"Sekuens Protein (100 pertama):\\n{protein_sequence[:100]}...\")\n",
    "    protein_embedding = get_protein_embedding(protein_sequence)\n",
    "    print(f\"\\nBentuk Protein Embedding: {protein_embedding.shape}\")\n",
    "else:\n",
    "    print(\"Gagal mengekstrak sekuens protein.\")"
   ]
  },
  {
   "cell_type": "markdown",
   "id": "7ec607ad",
   "metadata": {},
   "source": [
    "Dengan cara ini, kita bisa kasih mesin “mata” buat protein meskipun nggak punya struktur lengkapnya. Mesin bisa belajar pola interaksi protein-ligan lebih akurat, memperbesar peluang nemuin calon obat yang bener-bener efektif."
   ]
  },
  {
   "cell_type": "markdown",
   "id": "3efce1ec",
   "metadata": {},
   "source": [
    "## Kesimpulan ligan-protein.\n",
    "\n",
    "Bayangin ligan itu kayak kunci dan protein target itu gembok. Kunci punya bentuk dan fitur kimia spesifik, gembok punya bentuk, mekanisme, dan pola tersembunyi yang bikin kunci bisa masuk atau nggak. Kalau kita cuma liat kunci aja (ligan) atau cuma liat gembok aja (protein), mesin cuma bisa nebak setengah-setengah. Tapi kalau kita gabungin kedua info ini, mesin bisa belajar apa bagian kunci yang cocok sama bagian gembok.\n",
    "\n",
    "Secara teknis, kita ambil representasi graf ligan yang udah di-agregasi—ini kayak nyimpulin semua fitur atom dan ikatan penting jadi satu vektor. Terus kita gabungin dengan embedding protein dari ESM-2—vektor berdimensi tinggi yang nunjukin pola evolusi, struktur, dan fungsi protein. Gabungan ini jadi input multi-modal ke GNN kita.\n",
    "\n",
    "Dengan cara ini, GNN nggak cuma liat fitur kimia atau bentuk ligan secara terpisah, tapi bener-bener belajar interaksi antara molekul dan target. Jadi prediksi IC50 atau aktivitas biologis yang dihasilkan lebih akurat, lebih general, dan jauh lebih kuat dibanding pendekatan lama kayak QSAR tradisional yang cuma fokus ligan, atau docking statis yang cuma liat struktur satu waktu.\n",
    "\n",
    "Ini inti kenapa pendekatan modern bisa ngebantu drug discovery lebih cepat dan efektif. Mesin belajar pola kompleks yang susah ditangkap manusia, bisa nyaring molekul potensial lebih cepat, dan ngasih insight buat calon obat yang mungkin efektif sebelum diuji di laboratorium. Jadi kita nggak lagi asal nebak—AI sekarang bisa “ngeliat kunci dan gembok” sekaligus, dan itu game-changer banget buat nemuin obat baru."
   ]
  },
  {
   "cell_type": "markdown",
   "id": "449ea540",
   "metadata": {},
   "source": [
    "---\n",
    "\n",
    "# MODEL\n",
    "\n",
    "sekarang kita udah masuk ke bagian yang paling seru: bikin mesinnya beneran belajar alias pemodelan AI. Jadi anggep semua proses sebelumnya itu kayak kita lagi nyiapin bahan—bersihin, ngecek kualitas, sampai bener-bener siap diolah. Nah di sini kita mulai masakannya: bikin model prediksi yang bisa nebak seberapa aktif molekul baru.\n",
    "\n",
    "Pertama, kita biasanya mulai dari model baseline dulu. Ini ibaratnya kayak benchmark atau titik awal. Model baseline nggak harus yang paling canggih, tapi cukup kuat buat kasih kita gambaran performa minimal. Dari situ baru kita coba model yang lebih advance kayak Graph Neural Network (GNN). Kenapa GNN? Karena molekul kan sebenernya bentuknya grafik: atom-atom itu node, ikatan-ikatannya edge. Jadi GNN bisa langsung belajar dari bentuk aslinya, bukan cuma angka-angka ringkasan kayak deskriptor biasa.\n",
    "\n",
    "## SPLITTING\n",
    "\n",
    "Tapi sebelum masuk ke training, ada satu hal yang super penting: cara bagi data. Jangan dianggap remeh, bro. Kalo salah, hasilnya bisa ngibulin kita sendiri.\n",
    "\n",
    "Masalah paling umum adalah kalo kita pake random split. Jadi bayangin kita punya satu seri molekul mirip-mirip—bedanya cuma tambahin satu gugus metil, ganti posisi halogen, gitu-gitu doang. Nah kalo dibagi random, kemungkinan besar versi mirip-mirip ini bakal nyebar ke train, valid, sama test. Hasilnya? Model keliatan jago banget di test set. Padahal aslinya dia cuma “ngafalin” keluarga molekul yang sama. Bukan jago generalisasi, tapi lebih kayak bocoran soal ujian.\n",
    "\n",
    "Makanya, buat bikin simulasi dunia nyata, kita pake yang namanya scaffold splitting. Di sini, kita ekstrak dulu kerangka inti molekulnya (scaffold). Terus kita pastiin semua molekul yang punya scaffold sama cuma nongol di satu set doang: entah di train, valid, atau test. Dengan cara gini, set test bakal berisi scaffold yang belum pernah diliat model sama sekali pas training. Jadi kalo model masih bisa perform bagus, berarti dia bener-bener ngerti hubungan antara struktur dan aktivitas, bukan cuma hafalan.\n",
    "\n",
    "Implementasinya bisa pake fungsi dari DeepChem (yang udah nyediain splitter siap pakai), atau kalo mau lebih fleksibel bisa bikin sendiri pake RDKit buat ngambil scaffold. Intinya, teknik splitting ini kayak anti-cheat system. Biar model nggak curang kelihatan jago, padahal cuma main di zona nyaman."
   ]
  },
  {
   "cell_type": "code",
   "execution_count": 8,
   "id": "ae3518cb",
   "metadata": {},
   "outputs": [],
   "source": [
    "!pip3.11 -q install deepchem rdkit-pypi"
   ]
  },
  {
   "cell_type": "code",
   "execution_count": 13,
   "id": "7f789428",
   "metadata": {},
   "outputs": [],
   "source": [
    "import deepchem as dc\n",
    "import numpy as np\n",
    "import pandas as pd\n",
    "import random\n",
    "from tqdm import tqdm\n",
    "from sklearn.ensemble import RandomForestRegressor\n",
    "from sklearn.metrics import mean_squared_error, r2_score\n",
    "from scipy.stats import pearsonr\n",
    "\n",
    "\n",
    "# Set random seeds for reproducibility\n",
    "random.seed(42)\n",
    "np.random.seed(42)\n",
    "\n",
    "# Load and prepare data\n",
    "final_df = pd.read_csv('../data/EGFR_bioactivity_cleaned.csv')\n",
    "final_df = final_df.drop_duplicates(subset=['canonical_smiles']).sort_values('canonical_smiles')\n",
    "\n",
    "def scaffold_split_data(df, smiles_col='canonical_smiles', target_col='pIC50'):\n",
    "    \"\"\"\n",
    "    Membagi dataset menggunakan Scaffold Split.\n",
    "    \"\"\"\n",
    "    # DeepChem memerlukan dataset dalam formatnya sendiri\n",
    "    # Kita buat dataset dari SMILES dan target\n",
    "    smiles = df[smiles_col].tolist()\n",
    "    targets = df[target_col].values\n",
    "\n",
    "    # Kita tidak memerlukan featurizer di sini, hanya untuk splitting\n",
    "    dataset = dc.data.NumpyDataset(X=np.array(smiles), y=targets, ids=smiles)\n",
    "\n",
    "    splitter = dc.splits.ScaffoldSplitter()\n",
    "    train_dataset, valid_dataset, test_dataset = splitter.train_valid_test_split(\n",
    "        dataset, frac_train=0.8, frac_valid=0.1, frac_test=0.1, seed=42\n",
    "    )\n",
    "\n",
    "    # Konversi kembali ke format yang mudah digunakan (SMILES dan target)\n",
    "    X_train_smiles, y_train = train_dataset.ids, train_dataset.y\n",
    "    X_valid_smiles, y_valid = valid_dataset.ids, valid_dataset.y\n",
    "    X_test_smiles, y_test = test_dataset.ids, test_dataset.y\n",
    "\n",
    "    print(f\"Ukuran data train: {len(X_train_smiles)}\")\n",
    "    print(f\"Ukuran data validasi: {len(X_valid_smiles)}\")\n",
    "    print(f\"Ukuran data test: {len(X_test_smiles)}\")\n",
    "\n",
    "    return X_train_smiles, y_train, X_valid_smiles, y_valid, X_test_smiles, y_test"
   ]
  },
  {
   "cell_type": "markdown",
   "id": "75ccd7e6",
   "metadata": {},
   "source": [
    "## BASELINE MODEL - XGBOOST\n",
    "\n",
    "baseline kita itu pake XGBoost plus fingerprint. Bayangin molekul itu kayak gambar hitam putih yang ribet banget, terus kita kompres jadi barcode panjang—nah itu yang namanya fingerprint. Si XGBoost ini ibarat mesin yang jago banget baca barcode. Caranya dia tuh bikin banyak pohon keputusan kecil-kecil, terus digabungin, kayak tim futsal: tiap pemain nyumbang gol kecil, lama-lama jadi skor gede. Jadinya cepet, tangguh, dan biasanya pas banget buat data kayak fingerprint molekul ini.\n",
    "\n",
    "Soal data split, kita kan nggak boleh asal. Kalau dibagi random, bisa jadi molekul yang mirip-mirip nyebar ke train sama test, jadi model kayak “nyontek”. Makanya kita pake scaffold split: kalau satu keluarga molekul masuk train, keluarganya nggak boleh ada di test. Jadi pas di test, model bener-bener ketemu keluarga baru, dan hasilnya lebih jujur kayak di dunia nyata."
   ]
  },
  {
   "cell_type": "code",
   "execution_count": 4,
   "id": "cda60965",
   "metadata": {},
   "outputs": [
    {
     "name": "stdout",
     "output_type": "stream",
     "text": [
      "\n",
      "\u001b[1m[\u001b[0m\u001b[34;49mnotice\u001b[0m\u001b[1;39;49m]\u001b[0m\u001b[39;49m A new release of pip is available: \u001b[0m\u001b[31;49m25.1.1\u001b[0m\u001b[39;49m -> \u001b[0m\u001b[32;49m25.2\u001b[0m\n",
      "\u001b[1m[\u001b[0m\u001b[34;49mnotice\u001b[0m\u001b[1;39;49m]\u001b[0m\u001b[39;49m To update, run: \u001b[0m\u001b[32;49m/opt/homebrew/opt/python@3.11/bin/python3.11 -m pip install --upgrade pip\u001b[0m\n"
     ]
    }
   ],
   "source": [
    "!pip3.11 install -q xgboost==1.7.6"
   ]
  },
  {
   "cell_type": "code",
   "execution_count": 14,
   "id": "3d7302b5",
   "metadata": {},
   "outputs": [
    {
     "name": "stdout",
     "output_type": "stream",
     "text": [
      "Ukuran data train: 6061\n",
      "Ukuran data validasi: 758\n",
      "Ukuran data test: 758\n"
     ]
    },
    {
     "name": "stderr",
     "output_type": "stream",
     "text": [
      "Generating Fingerprints: 100%|██████████| 6061/6061 [00:01<00:00, 4543.82it/s]\n"
     ]
    },
    {
     "name": "stdout",
     "output_type": "stream",
     "text": [
      "SMILES gagal parse: 0\n"
     ]
    },
    {
     "name": "stderr",
     "output_type": "stream",
     "text": [
      "Generating Fingerprints: 100%|██████████| 758/758 [00:00<00:00, 4228.73it/s]\n"
     ]
    },
    {
     "name": "stdout",
     "output_type": "stream",
     "text": [
      "SMILES gagal parse: 0\n"
     ]
    },
    {
     "name": "stderr",
     "output_type": "stream",
     "text": [
      "Generating Fingerprints: 100%|██████████| 758/758 [00:00<00:00, 3931.84it/s]"
     ]
    },
    {
     "name": "stdout",
     "output_type": "stream",
     "text": [
      "SMILES gagal parse: 0\n"
     ]
    },
    {
     "name": "stderr",
     "output_type": "stream",
     "text": [
      "\n"
     ]
    }
   ],
   "source": [
    "# Lakukan splitting\n",
    "X_train_smiles, y_train, X_valid_smiles, y_valid, X_test_smiles, y_test = scaffold_split_data(final_df)\n",
    "\n",
    "# Hasilkan fingerprints untuk setiap set data\n",
    "X_train_fp = generate_morgan_fingerprints(X_train_smiles)\n",
    "X_valid_fp = generate_morgan_fingerprints(X_valid_smiles)\n",
    "X_test_fp = generate_morgan_fingerprints(X_test_smiles)"
   ]
  },
  {
   "cell_type": "code",
   "execution_count": 15,
   "id": "cd2b3eb3",
   "metadata": {},
   "outputs": [
    {
     "name": "stdout",
     "output_type": "stream",
     "text": [
      "Melatih model XGBoost...\n"
     ]
    },
    {
     "name": "stderr",
     "output_type": "stream",
     "text": [
      "/Users/ryanakmalpasya/Documents/[1] BS/[2] Freelance/[3] PROJECTS/AI-based Drug Target Identification from Protein Sequences/myenv311/lib/python3.11/site-packages/xgboost/training.py:183: UserWarning: [12:30:30] WARNING: /Users/runner/work/xgboost/xgboost/src/learner.cc:738: \n",
      "Parameters: { \"predictor\" } are not used.\n",
      "\n",
      "  bst.update(dtrain, iteration=i, fobj=obj)\n"
     ]
    },
    {
     "name": "stdout",
     "output_type": "stream",
     "text": [
      "\n",
      "--- Hasil Evaluasi Model XGBoost ---\n",
      "RMSE: 1.0123\n",
      "R-squared (R²): 0.4282\n",
      "Pearson Correlation: 0.6621\n"
     ]
    },
    {
     "data": {
      "image/png": "[encoded data removed]",
      "text/plain": [
       "<Figure size 800x800 with 1 Axes>"
      ]
     },
     "metadata": {},
     "output_type": "display_data"
    }
   ],
   "source": [
    "import xgboost as xgb\n",
    "import matplotlib.pyplot as plt\n",
    "import seaborn as sns\n",
    "from rdkit import Chem\n",
    "from rdkit.Chem import AllChem\n",
    "\n",
    "# Inisialisasi dan latih model XGBoost\n",
    "xgb_model = xgb.XGBRegressor(\n",
    "    objective='reg:squarederror',\n",
    "    n_estimators=1200,\n",
    "    learning_rate=0.03,\n",
    "    max_depth=6,\n",
    "    subsample=0.9,\n",
    "    colsample_bytree=0.9,\n",
    "    random_state=42,\n",
    "    n_jobs=1,              # <— uji deterministik dulu\n",
    "    tree_method='hist',    # stabil di CPU\n",
    "    predictor='cpu_predictor'\n",
    ")\n",
    "\n",
    "print(\"Melatih model XGBoost...\")\n",
    "xgb_model.fit(\n",
    "    X_train_fp, y_train,\n",
    "    eval_set=[(X_valid_fp, y_valid)],\n",
    "    verbose=False\n",
    ")\n",
    "\n",
    "# Prediksi pada set test\n",
    "y_pred_xgb = xgb_model.predict(X_test_fp)\n",
    "\n",
    "# Evaluasi model\n",
    "rmse_xgb = np.sqrt(mean_squared_error(y_test, y_pred_xgb))\n",
    "r2_xgb = r2_score(y_test, y_pred_xgb)\n",
    "pearson_xgb, _ = pearsonr(y_test, y_pred_xgb)  # Fixed variable name\n",
    "\n",
    "print(\"\\n--- Hasil Evaluasi Model XGBoost ---\")\n",
    "print(f\"RMSE: {rmse_xgb:.4f}\")\n",
    "print(f\"R-squared (R²): {r2_xgb:.4f}\")\n",
    "print(f\"Pearson Correlation: {pearson_xgb:.4f}\")\n",
    "\n",
    "# Visualisasi hasil prediksi vs nilai asli\n",
    "plt.figure(figsize=(8, 8))\n",
    "sns.scatterplot(x=y_test, y=y_pred_xgb, alpha=0.6)\n",
    "plt.plot([min(y_test), max(y_test)], [min(y_test), max(y_test)], color='red', linestyle='--')\n",
    "plt.title('Prediksi XGBoost vs Nilai Asli (pIC50)', fontsize=16)\n",
    "plt.xlabel('Nilai Asli (pIC50)', fontsize=12)\n",
    "plt.ylabel('Nilai Prediksi (pIC50)', fontsize=12)\n",
    "plt.grid(True, alpha=0.3)\n",
    "plt.show()"
   ]
  },
  {
   "cell_type": "markdown",
   "id": "e6aa997f",
   "metadata": {},
   "source": [
    "**Analisis :**\n",
    "\n",
    "Sekarang lihat plot scatter itu. Garis merah putus-putus tuh idealnya “prediksi = nilai asli”. Kalau titik nempel di situ, berarti tebakan model pas banget. Nah mayoritas titik kita ngumpul di pIC50 sekitar 5–9, itu memang range terbanyak di data kita. Cuma keliatan juga ada “efek tarik ke tengah”: nilai asli yang tinggi banget diprediksi turun, nilai yang rendah banget diprediksi naik. Bahasa gampangnya, model main aman, nggak berani ekstrim. Makanya ada titik outlier jauh di kanan—nilai asli super tinggi, tapi diprediksi cuma 8-an. Itu tanda kalau molekul-molekul super kuat jarang di data, jadi model agak bingung.\n",
    "\n",
    "Sekarang angka evaluasinya. RMSE 1.0221—artinya rata-rata error kita sekitar 1 log unit. Di dunia pIC50, 1 unit itu beda 10 kali lipat di IC50. Jadi kalau aslinya 100 nM, model bisa salah tebak jadi antara 10 nM sampai 1 µM. Buat ranking kasar masih oke, tapi kalau buat prediksi presisi, masih kurang tajem. Terus R² 0.417 artinya model baru bisa jelasin 42% variasi data—kayak baru setengah jalan lah. Pearson 0.6566 bilang prediksi kita cukup ngikutin pola aslinya, jadi kalau buat nyusun urutan molekul siapa yang lebih aktif, udah lumayan kepake.\n",
    "\n",
    "Fingerprintnya sendiri kita generate buat 758 molekul, kecepatannya lumayan kenceng juga. Biasanya yang dipake itu Morgan fingerprint (ECFP) radius 2, ribuan bit panjangnya, jadi padet informasinya. Cuma ada kelemahannya juga: kalau scaffold di test bener-bener baru, model suka “main tengah” lagi. Itu kenapa di plot keliatan titik ngumpul di tengah, makin nyebar kalau di pinggiran.\n",
    "\n",
    "Nah, jadi apa gunanya semua ini? XGBoost baseline ini ibaratnya tolok ukur. Cepet, stabil, kasih gambaran “segini lho kemampuan model standar kalau cuma pakai barcode fingerprint”. Buat screening—misal milih top 10–20% kandidat buat diuji di lab—udah cukup berguna. Tapi kalau targetnya prediksi presisi buat scaffold baru, atau nyari motif kimia yang lebih halus, kita butuh model yang bisa bener-bener “lihat” atom sama ikatan, bukan sekedar barcode doang. Nah disitu lah GNN biasanya lebih cakep.\n",
    "\n",
    "Tambahan biar kebayang: kalau kita bisa nurunin RMSE dari ~1.0 ke 0.6, itu berarti error tipikal turun dari 10× ke sekitar 4×. Impactnya gede banget kalau lagi milih molekul mana yang worth buat disintesis.\n",
    "\n",
    "Jadi singkatnya, XGBoost ini udah kayak “kapten tim” di babak penyisihan: jago, tangguh, tapi masih ada limit. Titik-titik yang deket garis merah itu bukti model udah nangkep, sementara yang nyebar jauh itu sinyal kalau kita harus naik level ke metode yang lebih “paham bentuk molekul”, kayak GNN."
   ]
  },
  {
   "cell_type": "code",
   "execution_count": 40,
   "id": "d6b00d10",
   "metadata": {},
   "outputs": [
    {
     "name": "stdout",
     "output_type": "stream",
     "text": [
      "Model berhasil disimpan di ../model/xgb_model.json\n"
     ]
    }
   ],
   "source": [
    "# pastikan folder ada\n",
    "import os\n",
    "os.makedirs(\"../model\", exist_ok=True)\n",
    "\n",
    "# simpan model\n",
    "xgb_model.save_model(\"../model/xgb_model.json\")\n",
    "print(\"Model berhasil disimpan di ../model/xgb_model.json\")"
   ]
  },
  {
   "cell_type": "markdown",
   "id": "5f0fe815",
   "metadata": {},
   "source": [
    "## ADVANCE MODEL - GNN (GRAPH NEURAL NETWORK)\n",
    "\n",
    "\n",
    "Nah, abis XGBoost, kita naik kelas ke Graph Neural Network (GNN). Kalau tadi molekul cuma kita jadiin barcode (fingerprint), sekarang kita bikin model yang bisa “ngeliat” molekul dalam bentuk aslinya—yaitu graf. Bayangin molekul kayak titik-titik (atom) yang nyambung pake garis (ikatan). GNN tuh kayak otak yang bisa muter-muter di graf ini, nyerap info dari tetangga tiap atom, terus bikin kesimpulan tentang keseluruhan molekul."
   ]
  },
  {
   "cell_type": "markdown",
   "id": "120dce53",
   "metadata": {},
   "source": [
    "### PREPARING DATASET FOR GNN MODEL\n",
    "\n",
    "Datasetnya kita siapin dulu. SMILES kita ubah jadi format graf yang bisa diproses PyTorch Geometric. Hasilnya dapet dataset dengan ribuan graf molekul, tiap graf itu ibarat satu papan catur kecil buat model. Jadi alih-alih cuma barcode panjang, sekarang input model tuh struktur asli molekul—lebih kaya informasinya."
   ]
  },
  {
   "cell_type": "code",
   "execution_count": 16,
   "id": "12dad17d",
   "metadata": {},
   "outputs": [
    {
     "name": "stdout",
     "output_type": "stream",
     "text": [
      "Dataset GNN siap. Contoh data pertama dari training set: \n",
      "MolecularGraphDataset(6061)\n"
     ]
    }
   ],
   "source": [
    "import torch_geometric\n",
    "\n",
    "class MolecularGraphDataset(torch_geometric.data.Dataset):\n",
    "    def __init__(self, smiles_list, pIC50_list, protein_embedding):\n",
    "        super(MolecularGraphDataset, self).__init__()\n",
    "        self.smiles_list = smiles_list\n",
    "        self.pIC50_list = pIC50_list\n",
    "        self.protein_embedding = protein_embedding\n",
    "\n",
    "    def len(self):\n",
    "        return len(self.smiles_list)\n",
    "\n",
    "    def get(self, idx):\n",
    "        data = smiles_to_pyg_graph(self.smiles_list[idx])\n",
    "        data.y = torch.tensor([self.pIC50_list[idx]], dtype=torch.float)\n",
    "\n",
    "        # protein_embedding untuk 1 protein (shape: (1280,))\n",
    "        emb = self.protein_embedding.clone().detach().float()\n",
    "        emb = emb.unsqueeze(0)  # jadi shape (1, 1280), biar DataLoader stack jadi (batch_size, 1280)\n",
    "        data.protein_embedding = emb\n",
    "\n",
    "        return data\n",
    "        \n",
    "# Buat dataset untuk setiap split\n",
    "train_gnn_dataset = MolecularGraphDataset(X_train_smiles, y_train, protein_embedding)\n",
    "valid_gnn_dataset = MolecularGraphDataset(X_valid_smiles, y_valid, protein_embedding)\n",
    "test_gnn_dataset = MolecularGraphDataset(X_test_smiles, y_test, protein_embedding)\n",
    "\n",
    "# Buat DataLoader untuk batching\n",
    "from torch_geometric.loader import DataLoader\n",
    "train_loader = DataLoader(train_gnn_dataset, batch_size=64, shuffle=True)\n",
    "valid_loader = DataLoader(valid_gnn_dataset, batch_size=64, shuffle=False)\n",
    "test_loader = DataLoader(test_gnn_dataset, batch_size=64, shuffle=False)\n",
    "\n",
    "print(f\"Dataset GNN siap. Contoh data pertama dari training set: \\n{train_gnn_dataset}\")"
   ]
  },
  {
   "cell_type": "markdown",
   "id": "ceff96d8",
   "metadata": {},
   "source": [
    "### MODEL ARCHITECTURE\n",
    "\n",
    "Sekarang soal arsitektur model. Kita pake GATConv alias Graph Attention Network. Bedanya sama GCN biasa, GAT punya mekanisme “perhatian” (attention). Jadi waktu satu atom “ngobrol” sama tetangganya, dia nggak nganggep semua tetangga sama penting. Misalnya atom nitrogen yang jadi bagian ring bisa lebih krusial dibanding hidrogen di pinggir. Attention bikin model bisa kasih bobot lebih ke yang penting.\n",
    "\n",
    "Alurnya gini:\n",
    "\n",
    "Beberapa lapis GATConv ngolah graf molekul. Jadi tiap atom dapet representasi baru yang makin kaya setelah tiap lapis.\n",
    "\n",
    "Terus kita lakukan Global Mean Pooling buat ngumpulin semua info atom jadi satu vektor representasi molekul.\n",
    "\n",
    "Nah, karena ini kasus protein-ligand binding, kita juga punya embedding protein—ibarat “barcode” khusus buat protein target.\n",
    "\n",
    "Representasi molekul + embedding protein kita gabungin, terus lewat beberapa lapis MLP (fully connected layer) buat akhirnya keluarin prediksi pIC50."
   ]
  },
  {
   "cell_type": "code",
   "execution_count": 17,
   "id": "754b69c6",
   "metadata": {},
   "outputs": [
    {
     "name": "stdout",
     "output_type": "stream",
     "text": [
      "Arsitektur Model GNN:\n",
      "GNNBindingAffinityPredictor(\n",
      "  (gat1): GATConv(6, 128, heads=4)\n",
      "  (gat2): GATConv(512, 128, heads=4)\n",
      "  (fc1): Linear(in_features=1792, out_features=128, bias=True)\n",
      "  (fc2): Linear(in_features=128, out_features=64, bias=True)\n",
      "  (out): Linear(in_features=64, out_features=1, bias=True)\n",
      ")\n"
     ]
    }
   ],
   "source": [
    "from torch_geometric.nn import GATConv, global_mean_pool\n",
    "import torch.nn.functional as F\n",
    "\n",
    "class GNNBindingAffinityPredictor(torch.nn.Module):\n",
    "    def __init__(self, num_node_features, n_output=1, num_heads=4, hidden_dim=128, protein_embedding_dim=1280):\n",
    "        super(GNNBindingAffinityPredictor, self).__init__()\n",
    "\n",
    "        # Graph Attention Layers\n",
    "        self.gat1 = GATConv(num_node_features, hidden_dim, heads=num_heads)\n",
    "        self.gat2 = GATConv(hidden_dim * num_heads, hidden_dim, heads=num_heads)\n",
    "\n",
    "        # MLP untuk memproses representasi gabungan\n",
    "        self.fc1 = torch.nn.Linear((hidden_dim * num_heads) + protein_embedding_dim, hidden_dim)\n",
    "        self.fc2 = torch.nn.Linear(hidden_dim, hidden_dim // 2)\n",
    "        self.out = torch.nn.Linear(hidden_dim // 2, n_output)\n",
    "\n",
    "    # Forward: cek dan normalisasi bentuk sebelum concat\n",
    "    def forward(self, data):\n",
    "        x, edge_index, batch = data.x, data.edge_index, data.batch\n",
    "        protein_emb = data.protein_embedding\n",
    "\n",
    "        x = F.dropout(x, p=0.2, training=self.training)\n",
    "        x = self.gat1(x, edge_index); x = F.elu(x)\n",
    "        x = F.dropout(x, p=0.2, training=self.training)\n",
    "        x = self.gat2(x, edge_index); x = F.elu(x)\n",
    "\n",
    "        x = global_mean_pool(x, batch)  # (batch_size, hidden_dim * num_heads)\n",
    "\n",
    "        # ---- normalize protein_emb ke bentuk (batch_size, protein_dim)\n",
    "        if protein_emb.dim() == 1:\n",
    "            # single protein embedding -> repeat untuk batch\n",
    "            protein_emb = protein_emb.unsqueeze(0).repeat(x.size(0), 1)\n",
    "        elif protein_emb.dim() == 2:\n",
    "            # jika dim[0] != batch_size -> biasanya salah (per-dataset, bukan per-batch)\n",
    "            if protein_emb.size(0) != x.size(0):\n",
    "                raise RuntimeError(f\"protein_emb batch size ({protein_emb.size(0)}) != graph batch size ({x.size(0)}).\"\n",
    "                                  \" Likely you set dataset.protein_embedding to the whole matrix instead of per-sample.\")\n",
    "        else:\n",
    "            raise RuntimeError(\"Unexpected protein_emb.dim() = \" + str(protein_emb.dim()))\n",
    "\n",
    "        protein_emb = protein_emb.to(x.device)\n",
    "        x = torch.cat([x, protein_emb], dim=1)\n",
    "\n",
    "        # sanity check\n",
    "        assert x.size(1) == self.fc1.in_features, f\"input dim {x.size(1)} != fc1.in_features {self.fc1.in_features}\"\n",
    "\n",
    "        x = F.relu(self.fc1(x))\n",
    "        x = F.relu(self.fc2(x))\n",
    "        output = self.out(x)\n",
    "        return output\n",
    "\n",
    "# Inisialisasi model\n",
    "device = torch.device('cuda' if torch.cuda.is_available() else 'cpu')\n",
    "gnn_model = GNNBindingAffinityPredictor(\n",
    "    num_node_features=train_gnn_dataset.num_node_features,\n",
    "    protein_embedding_dim=protein_embedding.shape[-1]\n",
    ").to(device)\n",
    "\n",
    "print(\"Arsitektur Model GNN:\")\n",
    "print(gnn_model)"
   ]
  },
  {
   "cell_type": "markdown",
   "id": "f0e3e238",
   "metadata": {},
   "source": [
    "Modelnya keliatan agak “berotot”: GATConv pertama mapping fitur atom kecil → gede, GATConv kedua makin dalam lagi, terus masuk ke layer fully connected (fc1, fc2, out). Outputnya angka pIC50.\n",
    "\n",
    "Kalau dibanding sama XGBoost, ini jelas lebih kompleks: bukan cuma baca barcode molekul, tapi langsung “ngeliat” graf molekul dan nyambungin ke protein. Ibaratnya kalau XGBoost itu baca molekul kayak liat kode batang di Indomaret, GNN ini udah kayak bisa ngerasain bentuk 3D barangnya langsung.\n",
    "\n",
    "Tapi gimana hasilnya? Nah...."
   ]
  },
  {
   "cell_type": "markdown",
   "id": "a30683b6",
   "metadata": {},
   "source": [
    "### LOOPING AND EVALUATION"
   ]
  },
  {
   "cell_type": "code",
   "execution_count": null,
   "id": "8690932a",
   "metadata": {},
   "outputs": [
    {
     "name": "stdout",
     "output_type": "stream",
     "text": [
      "\n",
      "Melatih model GNN...\n",
      "\n",
      "Epoch |       Loss |   Val RMSE |   Val R² |  Pearson\n",
      "-------------------------------------------------------\n",
      "    1 |     4.8581 |     1.3853 |  -0.0498 |   0.1911\n",
      "   10 |     1.9006 |     1.3252 |   0.0392 |   0.2449\n",
      "   20 |     1.8330 |     1.4609 |  -0.1675 |   0.2932\n",
      "   30 |     1.6440 |     1.3304 |   0.0317 |   0.3939\n",
      "   40 |     1.5541 |     1.2787 |   0.1055 |   0.3801\n"
     ]
    }
   ],
   "source": [
    "# Fungsi untuk melatih model\n",
    "def train_gnn(model, loader, optimizer, criterion):\n",
    "    model.train()\n",
    "    total_loss = 0\n",
    "    for data in loader:\n",
    "        data = data.to(device)\n",
    "        optimizer.zero_grad()\n",
    "        output = model(data)\n",
    "        loss = criterion(output, data.y.view(-1, 1))\n",
    "        loss.backward()\n",
    "        optimizer.step()\n",
    "        total_loss += loss.item() * data.num_graphs\n",
    "    return total_loss / len(loader.dataset)\n",
    "\n",
    "# Fungsi untuk mengevaluasi model\n",
    "def evaluate_gnn(model, loader, criterion):\n",
    "    model.eval()\n",
    "    predictions = []\n",
    "    labels = []\n",
    "    with torch.no_grad():\n",
    "        for data in loader:\n",
    "            data = data.to(device)\n",
    "            output = model(data)\n",
    "            predictions.extend(output.cpu().numpy())\n",
    "            labels.extend(data.y.cpu().numpy())\n",
    "\n",
    "    predictions = np.array(predictions).flatten()\n",
    "    labels = np.array(labels).flatten()\n",
    "\n",
    "    rmse = np.sqrt(mean_squared_error(labels, predictions))\n",
    "    r2 = r2_score(labels, predictions)\n",
    "    pearson, _ = pearsonr(labels, predictions)\n",
    "\n",
    "    return rmse, r2, pearson, predictions\n",
    "\n",
    "# Setup training\n",
    "optimizer = torch.optim.Adam(gnn_model.parameters(), lr=0.001)\n",
    "criterion = torch.nn.MSELoss()\n",
    "num_epochs = 100\n",
    "\n",
    "print(\"\\nMelatih model GNN...\\n\")\n",
    "print(f\"{'Epoch':>5} | {'Loss':>10} | {'Val RMSE':>10} | {'Val R²':>8} | {'Pearson':>8}\")\n",
    "print(\"-\" * 55)\n",
    "\n",
    "for epoch in range(1, num_epochs + 1):\n",
    "    loss = train_gnn(gnn_model, train_loader, optimizer, criterion)\n",
    "    val_rmse, val_r2, val_pearson, _ = evaluate_gnn(gnn_model, valid_loader, criterion)\n",
    "\n",
    "    if epoch % 10 == 0 or epoch == 1:\n",
    "        print(f\"{epoch:5d} | {loss:10.4f} | {val_rmse:10.4f} | {val_r2:8.4f} | {val_pearson:8.4f}\")\n",
    "\n",
    "# Evaluasi akhir pada test set\n",
    "rmse_gnn, r2_gnn, pearson_gnn, y_pred_gnn = evaluate_gnn(gnn_model, test_loader, criterion)\n",
    "\n",
    "print(\"\\n=== Hasil Evaluasi Akhir Model GNN ===\")\n",
    "print(f\"RMSE              : {rmse_gnn:.4f}\")\n",
    "print(f\"R-squared (R²)    : {r2_gnn:.4f}\")\n",
    "print(f\"Pearson Correlation: {pearson_gnn:.4f}\")"
   ]
  },
  {
   "cell_type": "code",
   "execution_count": 41,
   "id": "d8f44c50",
   "metadata": {},
   "outputs": [
    {
     "name": "stdout",
     "output_type": "stream",
     "text": [
      "Model GNN berhasil disimpan di ../model/gnn_model.pth\n"
     ]
    }
   ],
   "source": [
    "# Simpan ke folder ../model/\n",
    "torch.save({\n",
    "    'model_state_dict': gnn_model.state_dict(),\n",
    "    'optimizer_state_dict': optimizer.state_dict(),\n",
    "}, \"../model/gnn_model.pth\")\n",
    "\n",
    "print(\"Model GNN berhasil disimpan di ../model/gnn_model.pth\")"
   ]
  },
  {
   "cell_type": "markdown",
   "id": "b136c4fc",
   "metadata": {},
   "source": [
    "### MODEL SUMMARY\n",
    "\n"
   ]
  },
  {
   "cell_type": "markdown",
   "id": "1b11d0e2",
   "metadata": {},
   "source": [
    "ini agak bikin kening berkerut:\n",
    "\n",
    "| Model              | RMSE | R²  | Pearson |\n",
    "| ------------------ | ---- | --- | ------- |\n",
    "| XGBoost (Baseline) | 1.0  | 0.4 | 0.6     |\n",
    "| GNN (Advanced)     | 1.2  | 0.1 | 0.4     |\n",
    "\n",
    "\n",
    "Surprisingly, GNN kita malah performanya lebih jelek dari XGBoost. RMSE naik jadi 1.2 (error makin besar), R² turun ke 0.1 (cuma bisa jelasin 10% variasi data), Pearson drop ke 0.4. Jadi bukannya lebih tajam, model malah lebih bingung.\n",
    "\n",
    "Kenapa bisa gitu? Ada beberapa alasan yang masuk akal:\n",
    "\n",
    "Data masih kecil (7 ribuan molekul). GNN biasanya butuh data gede banget biar bisa bener-bener belajar pola graf. Kalau datanya dikit, model canggih malah gampang overfit atau bingung.\n",
    "\n",
    "Protein embedding mungkin belum optimal. Kalau embedding proteinnya kurang informatif, bagian protein malah jadi noise.\n",
    "\n",
    "Hyperparameter & arsitektur. GNN sensitif banget sama desain layer, dimensi, pooling, dll. Bisa jadi kita baru nyoba baseline GNN, belum ketune dengan pas.\n",
    "\n",
    "Tapi meski hasilnya kelihatan jelek, eksperimen ini tetep penting banget. Karena ini nunjukin: kalau kita masih pake data terbatas, model sederhana kayak XGBoost bisa ngalahin model yang lebih “fancy”. Bukan berarti GNN jelek, tapi GNN kayak mesin Ferrari—kalau jalanan sempit dan macet, malah nggak bisa lari. Dia butuh track yang bener (dataset besar, embedding protein bagus, tuning tepat) buat ngasih keunggulannya.\n",
    "\n",
    "So-what-nya buat platform kita: baseline XGBoost itu solid buat start, sedangkan GNN ini ngasih glimpse of future. Kalau nanti dataset makin besar dan representasi protein kita lebih matang, GNN bisa ngasih lonjakan performa yang XGBoost nggak bakal bisa kejar—karena dia belajar dari struktur atom-ikatan beneran, bukan cuma barcode.\n",
    "\n",
    "Singkatnya: GNN ini udah langkah ke level advance, kayak kita udah nyobain main di liga Eropa. Emang awal-awal keliatan “keteteran”, tapi kalau dilatih bener, potensinya jauh di atas. XGBoost masih rajanya di baseline, tapi GNN nunjukin arah masa depan buat binding affinity prediction."
   ]
  },
  {
   "cell_type": "markdown",
   "id": "8eecb3f5",
   "metadata": {},
   "source": [
    "# Simulasi Docking - Eksperimen Virtual\n",
    "\n",
    "## KONTEKS\n",
    "\n",
    "Jadi gini. Kita udah punya AI model yang kasih ranking molekul berdasarkan prediksi afinitasnya. Ibaratnya kayak temen lo yang jago tebak-tebakan, “eh kayaknya obat ini bakal nempel kuat ke proteinnya deh.” Nah, masalahnya: AI itu belajarnya dari pola statistik data lama, bukan dari hukum fisika beneran. Jadi kadang bisa “sok tahu”—apalagi kalo ketemu molekul yang aneh atau belum pernah diliat.\n",
    "\n",
    "Di sini lah kita butuh reality check, dan itu namanya molecular docking. Docking ini kayak simulasi digital yang ngerjain perhitungan fisika buat ngebayangin gimana molekul kecil (ligan) bisa masuk ke kantong pengikatan protein. Jadi kalo AI itu kayak nge-guess berdasar pengalaman, docking ini kayak ngeliat langsung pake mikroskop virtual dan nanya: “eh beneran bisa nempel gak nih kalau ditempelin ke proteinnya?”\n",
    "\n",
    "Proses docking ada dua langkah gede. Pertama, sampling. Bayangin lo punya kunci (ligan) dan gembok (protein). Komputernya bakal nyobain muter-muter kunci itu ke segala arah, masukin ke lubang gembok dengan berbagai gaya, bahkan melipet-lipet kuncinya dikit (soalnya molekul bisa fleksibel). Jadi bukan cuma satu posisi, tapi ribuan kemungkinan posisi dan bentuk.\n",
    "\n",
    "Kedua, scoring. Dari semua posisi itu, docking bakal kasih nilai energi. Angka ini nunjukin seberapa “nyaman” si ligan nempel di proteinnya. Semakin rendah (lebih negatif) energinya, makin stabil ikatannya. Bahasa gampangnya: makin gampang kunci itu masuk dan makin susah dilepas. Nah, skor terbaik itu yang bakal kita ambil buat bilang “ini pose docking yang paling mungkin terjadi.”\n",
    "\n",
    "Nah kenapa docking penting banget buat platform kita? Karena ini beda paradigma. AI (misal XGBoost atau GNN tadi) itu belajar dari data lama, sedangkan docking itu simulasi fisika. Jadi kalo dua-duanya sepakat—misalnya AI bilang molekul X bagus, dan docking juga kasih skor energi rendah buat molekul X—nah itu jadi validasi silang. Kita bisa lebih percaya diri buat bilang, “oke, ini beneran kandidat kuat buat dites di lab basah.”\n",
    "\n",
    "Buat ngejalanin docking, kita biasanya pake software namanya AutoDock Vina. Ini populer banget di dunia kimia komputasi karena speed-nya oke tapi akurasinya juga lumayan. Jadi kayak motor bebek yang bandel dipake touring jauh—gak secanggih Ferrari, tapi gak bakal nyusahin di jalan. Sebelum jalanin docking, ada step persiapan. Protein harus diproses dulu biar siap jadi reseptor (kayak ngebersihin gembok, buang karat, rapihin bentuknya). Ligan juga harus diprepare, biar formatnya pas dan siap diputer-puterin di simulasi. Biasanya dipake MGLTools buat prepare receptor/ligand, atau alternatif modern kayak Meeko atau OpenBabel.\n",
    "\n",
    "Sekarang coba gua tarik balik ke konteks model kita tadi biar makin nyambung.\n",
    "\n",
    "XGBoost baseline: model cepet, pake fingerprint (barcode molekul). Hasilnya error sekitar 1 log unit (RMSE 1.0), R² sekitar 0.4, Pearson ~0.6. Artinya, ranking kasar udah lumayan bener—kandidat top bisa diprioritaskan, tapi akurasi prediksi kuantitatif masih jauh dari sempurna.\n",
    "\n",
    "GNN: lebih advance karena langsung ngeliat graf molekul + embedding protein. Tapi di dataset kita yang masih relatif kecil, malah underperform (RMSE 1.2, R² 0.1, Pearson 0.4). Jadi kayak Ferrari yang dipake di jalan gang sempit—potensinya gede, tapi belum keliatan sekarang.\n",
    "\n",
    "Nah, docking jadi layer tambahan. Bayangin lo bikin shortlist kandidat top dari XGBoost/GNN, terus lo lempar ke docking. Docking ini bukan model “pola statistik” tapi simulasi fisika, jadi bisa jadi penentu akhir. Misalnya, ada 10 molekul top menurut XGBoost, tapi setelah docking ternyata cuma 4 yang bener-bener punya energi ikatan oke. Nah 4 inilah yang beneran layak diprioritaskan buat sintesis/tes di lab.\n",
    "\n",
    "Jadi sistem kita makin kuat:\n",
    "\n",
    "AI model = otak yang belajar pola masa lalu (cepet buat screening awal).\n",
    "\n",
    "Docking = reality check berbasis fisika (lebih lambat tapi lebih yakin).\n",
    "Gabungin keduanya = punya shortlist kandidat yang bukan cuma “diprediksi bagus” tapi juga “dibenarkan fisikanya.”\n",
    "\n",
    "Singkatnya bro, docking itu kayak double-check yang bikin kita gak cuma percaya sama feeling anak AI, tapi juga ngecek pake “hukum alam.” Jadi walaupun AI bisa salah, kalau docking juga setuju, barulah kita beneran pede buat majuin molekul itu ke dunia nyata.\n",
    "\n",
    "## Menjalankan Simulasi dengan AutoDock Vina\n",
    "\n",
    "Proses ini memerlukan beberapa langkah persiapan yang cermat. Kita akan mengotomatiskannya menggunakan skrip Python.\n",
    "\n",
    "Prasyarat: Anda harus menginstal AutoDock Vina dan MGLTools (atau alternatifnya seperti Meeko/OpenBabel) di sistem Anda.\n",
    "\n",
    "AutoDock Vina: Unduh dari situs resminya.\n",
    "\n",
    "MGLTools: Diperlukan untuk skrip persiapan prepare_receptor4.py dan prepare_ligand4.py. Unduh dari(https://ccsb.scripps.edu/mgltools/). Alternatif modern adalah menggunakan Meeko atau Open Babel."
   ]
  },
  {
   "cell_type": "markdown",
   "id": "92a88375",
   "metadata": {},
   "source": [
    "### Langkah 1: Pilih Kandidat Terbaik dari Model AI\n",
    "\n",
    "Kita akan mengambil 5 molekul teratas berdasarkan prediksi pIC50 dari model GNN kita yang lebih unggul."
   ]
  },
  {
   "cell_type": "code",
   "execution_count": 44,
   "id": "574e733d",
   "metadata": {},
   "outputs": [
    {
     "name": "stdout",
     "output_type": "stream",
     "text": [
      "Top 5 Kandidat Molekul dari Model XGBoost:\n"
     ]
    },
    {
     "data": {
      "text/html": [
       "<div>\n",
       "<style scoped>\n",
       "    .dataframe tbody tr th:only-of-type {\n",
       "        vertical-align: middle;\n",
       "    }\n",
       "\n",
       "    .dataframe tbody tr th {\n",
       "        vertical-align: top;\n",
       "    }\n",
       "\n",
       "    .dataframe thead th {\n",
       "        text-align: right;\n",
       "    }\n",
       "</style>\n",
       "<table border=\"1\" class=\"dataframe\">\n",
       "  <thead>\n",
       "    <tr style=\"text-align: right;\">\n",
       "      <th></th>\n",
       "      <th>canonical_smiles</th>\n",
       "      <th>pIC50_actual</th>\n",
       "      <th>pIC50_predicted_xgb</th>\n",
       "    </tr>\n",
       "  </thead>\n",
       "  <tbody>\n",
       "    <tr>\n",
       "      <th>188</th>\n",
       "      <td>CCc1cc(Nc2ncc(Br)c(Nc3ccc4c(c3P(C)(C)=O)OCO4)n...</td>\n",
       "      <td>9.560667</td>\n",
       "      <td>9.773787</td>\n",
       "    </tr>\n",
       "    <tr>\n",
       "      <th>120</th>\n",
       "      <td>CN1CCC(c2ccc(-c3ccc4c(c3)C(=O)N(C(C(=O)Nc3nccs...</td>\n",
       "      <td>8.494850</td>\n",
       "      <td>9.312284</td>\n",
       "    </tr>\n",
       "    <tr>\n",
       "      <th>122</th>\n",
       "      <td>CN1CCC(c2ccc(-c3ccc4c(=O)n(C(C(=O)Nc5nccs5)c5c...</td>\n",
       "      <td>8.236572</td>\n",
       "      <td>9.305541</td>\n",
       "    </tr>\n",
       "    <tr>\n",
       "      <th>661</th>\n",
       "      <td>C=CC(=O)N1CCC(Oc2cc3c(Nc4ccc(Cl)c(Cl)c4F)ncnc3...</td>\n",
       "      <td>8.747147</td>\n",
       "      <td>9.268859</td>\n",
       "    </tr>\n",
       "    <tr>\n",
       "      <th>119</th>\n",
       "      <td>CN1CCC(c2ccc(-c3ccc4c(c3)CCN(C(C(=O)Nc3nccs3)c...</td>\n",
       "      <td>8.657577</td>\n",
       "      <td>9.234088</td>\n",
       "    </tr>\n",
       "  </tbody>\n",
       "</table>\n",
       "</div>"
      ],
      "text/plain": [
       "                                      canonical_smiles  pIC50_actual  \\\n",
       "188  CCc1cc(Nc2ncc(Br)c(Nc3ccc4c(c3P(C)(C)=O)OCO4)n...      9.560667   \n",
       "120  CN1CCC(c2ccc(-c3ccc4c(c3)C(=O)N(C(C(=O)Nc3nccs...      8.494850   \n",
       "122  CN1CCC(c2ccc(-c3ccc4c(=O)n(C(C(=O)Nc5nccs5)c5c...      8.236572   \n",
       "661  C=CC(=O)N1CCC(Oc2cc3c(Nc4ccc(Cl)c(Cl)c4F)ncnc3...      8.747147   \n",
       "119  CN1CCC(c2ccc(-c3ccc4c(c3)CCN(C(C(=O)Nc3nccs3)c...      8.657577   \n",
       "\n",
       "     pIC50_predicted_xgb  \n",
       "188             9.773787  \n",
       "120             9.312284  \n",
       "122             9.305541  \n",
       "661             9.268859  \n",
       "119             9.234088  "
      ]
     },
     "metadata": {},
     "output_type": "display_data"
    }
   ],
   "source": [
    "# Gabungkan SMILES test dan prediksi XGBoost\n",
    "results_df = pd.DataFrame({\n",
    "    'canonical_smiles': X_test_smiles,\n",
    "    'pIC50_actual': y_test,\n",
    "    'pIC50_predicted_xgb': y_pred_xgb\n",
    "})\n",
    "\n",
    "# Urutkan berdasarkan prediksi tertinggi\n",
    "top_candidates_df = results_df.sort_values(by='pIC50_predicted_xgb', ascending=False).head(5)\n",
    "print(\"Top 5 Kandidat Molekul dari Model XGBoost:\")\n",
    "display(top_candidates_df)"
   ]
  },
  {
   "cell_type": "markdown",
   "id": "59684787",
   "metadata": {},
   "source": [
    "### Langkah 2: Persiapan File PDBQT\n",
    "Vina memerlukan format file khusus yang disebut PDBQT, yang merupakan file PDB dengan informasi tambahan tentang muatan parsial (Q) dan tipe atom AutoDock (T).\n",
    "\n",
    "#### Persiapan Reseptor (Protein):\n",
    "Kita akan menggunakan skrip prepare_receptor4.py dari MGLTools untuk mengubah file PDB protein kita menjadi PDBQT. Ini akan menambahkan hidrogen polar dan menghitung muatan Gasteiger."
   ]
  },
  {
   "cell_type": "code",
   "execution_count": 45,
   "id": "a7a00295",
   "metadata": {},
   "outputs": [
    {
     "name": "stdout",
     "output_type": "stream",
     "text": [
      "Menyiapkan reseptor...\n",
      "Reseptor disimpan di: data/docking/receptor.pdbqt\n"
     ]
    }
   ],
   "source": [
    "# Path ke skrip MGLTools (sesuaikan dengan instalasi Anda)\n",
    "MGLTOOLS_PATH = '/path/to/mgltools_x86_64linux2_1.5.7/'\n",
    "PREPARE_RECEPTOR_SCRIPT = os.path.join(MGLTOOLS_PATH, 'MGLToolsPckgs/AutoDockTools/Utilities24/prepare_receptor4.py')\n",
    "PYTHON_MGL = os.path.join(MGLTOOLS_PATH, 'bin/pythonsh')\n",
    "\n",
    "# Buat direktori untuk file docking\n",
    "os.makedirs('data/docking', exist_ok=True)\n",
    "os.makedirs('data/docking/ligands', exist_ok=True)\n",
    "\n",
    "# Siapkan reseptor\n",
    "receptor_pdb = pdb_file\n",
    "receptor_pdbqt = 'data/docking/receptor.pdbqt'\n",
    "prepare_receptor_cmd = f\"{PYTHON_MGL} {PREPARE_RECEPTOR_SCRIPT} -r {receptor_pdb} -o {receptor_pdbqt} -A 'checkhydrogens'\"\n",
    "\n",
    "print(\"Menyiapkan reseptor...\")\n",
    "# Jalankan perintah (uncomment jika MGLTools sudah terinstal dan path sudah benar)\n",
    "#!{prepare_receptor_cmd}\n",
    "print(f\"Reseptor disimpan di: {receptor_pdbqt}\")"
   ]
  },
  {
   "cell_type": "markdown",
   "id": "136d4669",
   "metadata": {},
   "source": [
    "#### Persiapan Ligan:\n",
    "Untuk setiap molekul kandidat, kita perlu:\n",
    "\n",
    "Membuat struktur 3D dari SMILES menggunakan RDKit.\n",
    "\n",
    "Menyimpannya sebagai file SDF.\n",
    "\n",
    "Mengonversinya ke PDBQT menggunakan obabel (dari Open Babel) atau mk_prepare_ligand.py (dari Meeko). Open Babel lebih mudah diinstal dan digunakan secara programatik."
   ]
  },
  {
   "cell_type": "code",
   "execution_count": 47,
   "id": "f0b5b75c",
   "metadata": {},
   "outputs": [
    {
     "name": "stderr",
     "output_type": "stream",
     "text": [
      "1 molecule converted\n"
     ]
    },
    {
     "name": "stdout",
     "output_type": "stream",
     "text": [
      "Ligan 188 disimpan di: data/docking/ligands/ligand_188.pdbqt\n"
     ]
    },
    {
     "name": "stderr",
     "output_type": "stream",
     "text": [
      "1 molecule converted\n"
     ]
    },
    {
     "name": "stdout",
     "output_type": "stream",
     "text": [
      "Ligan 120 disimpan di: data/docking/ligands/ligand_120.pdbqt\n"
     ]
    },
    {
     "name": "stderr",
     "output_type": "stream",
     "text": [
      "1 molecule converted\n"
     ]
    },
    {
     "name": "stdout",
     "output_type": "stream",
     "text": [
      "Ligan 122 disimpan di: data/docking/ligands/ligand_122.pdbqt\n"
     ]
    },
    {
     "name": "stderr",
     "output_type": "stream",
     "text": [
      "1 molecule converted\n"
     ]
    },
    {
     "name": "stdout",
     "output_type": "stream",
     "text": [
      "Ligan 661 disimpan di: data/docking/ligands/ligand_661.pdbqt\n",
      "Ligan 119 disimpan di: data/docking/ligands/ligand_119.pdbqt\n"
     ]
    },
    {
     "name": "stderr",
     "output_type": "stream",
     "text": [
      "1 molecule converted\n"
     ]
    }
   ],
   "source": [
    "# Pastikan Open Babel terinstal: conda install -c conda-forge openbabel\n",
    "def prepare_ligand_pdbqt(smiles, index, output_dir='data/docking/ligands'):\n",
    "    \"\"\"\n",
    "    Menyiapkan file PDBQT ligan dari SMILES.\n",
    "    \"\"\"\n",
    "    # 1. Buat molekul RDKit dan tambahkan hidrogen\n",
    "    mol = Chem.MolFromSmiles(smiles)\n",
    "    mol_h = Chem.AddHs(mol)\n",
    "    \n",
    "    # 2. Hasilkan konformasi 3D\n",
    "    AllChem.EmbedMolecule(mol_h, randomSeed=42)\n",
    "    AllChem.UFFOptimizeMolecule(mol_h)\n",
    "    \n",
    "    # 3. Simpan sebagai file SDF sementara\n",
    "    sdf_path = os.path.join(output_dir, f'ligand_{index}.sdf')\n",
    "    writer = Chem.SDWriter(sdf_path)\n",
    "    writer.write(mol_h)\n",
    "    writer.close()\n",
    "    \n",
    "    # 4. Konversi SDF ke PDBQT menggunakan Open Babel\n",
    "    pdbqt_path = os.path.join(output_dir, f'ligand_{index}.pdbqt')\n",
    "    obabel_cmd = f\"obabel {sdf_path} -O {pdbqt_path} --gen3d -p 7.4\"\n",
    "    os.system(obabel_cmd)\n",
    "    \n",
    "    print(f\"Ligan {index} disimpan di: {pdbqt_path}\")\n",
    "    return pdbqt_path\n",
    "\n",
    "# Siapkan semua ligan kandidat\n",
    "ligand_pdbqt_paths = []\n",
    "for i, row in top_candidates_df.iterrows():\n",
    "    path = prepare_ligand_pdbqt(row['canonical_smiles'], i)\n",
    "    ligand_pdbqt_paths.append(path)"
   ]
  },
  {
   "cell_type": "markdown",
   "id": "dba9f34c",
   "metadata": {},
   "source": [
    "### Langkah 3: Menjalankan Vina dan Mem-parsing Hasil\n",
    "Kita perlu mendefinisikan search space—sebuah kotak virtual di mana Vina akan mencari pose ikatan. Idealnya, pusat kotak ini adalah pusat geometris dari ligan yang sudah ada di struktur kristal asli (jika ada) atau pusat dari binding pocket yang diprediksi. Untuk '2GS2', kita bisa menentukan koordinatnya secara manual berdasarkan ligan kristalografisnya.\n",
    "\n"
   ]
  },
  {
   "cell_type": "code",
   "execution_count": 1,
   "id": "6bf4a35f",
   "metadata": {},
   "outputs": [
    {
     "ename": "NameError",
     "evalue": "name 'ligand_pdbqt_paths' is not defined",
     "output_type": "error",
     "traceback": [
      "\u001b[31m---------------------------------------------------------------------------\u001b[39m",
      "\u001b[31mNameError\u001b[39m                                 Traceback (most recent call last)",
      "\u001b[36mCell\u001b[39m\u001b[36m \u001b[39m\u001b[32mIn[1]\u001b[39m\u001b[32m, line 41\u001b[39m\n\u001b[32m     38\u001b[39m docking_scores = []\n\u001b[32m     39\u001b[39m output_poses = []\n\u001b[32m---> \u001b[39m\u001b[32m41\u001b[39m \u001b[38;5;28;01mfor\u001b[39;00m i, path \u001b[38;5;129;01min\u001b[39;00m \u001b[38;5;28menumerate\u001b[39m(\u001b[43mligand_pdbqt_paths\u001b[49m):\n\u001b[32m     42\u001b[39m     score, pose_path = run_vina_docking(receptor_pdbqt, path, CENTER_X, CENTER_Y, CENTER_Z)\n\u001b[32m     43\u001b[39m     docking_scores.append(score)\n",
      "\u001b[31mNameError\u001b[39m: name 'ligand_pdbqt_paths' is not defined"
     ]
    }
   ],
   "source": [
    "def run_vina_docking(receptor_path, ligand_path, center_x, center_y, center_z, size_x=25, size_y=25, size_z=25):\n",
    "    \"\"\"\n",
    "    Menjalankan docking AutoDock Vina dan mengembalikan skor terbaik.\n",
    "    \"\"\"\n",
    "    ligand_name = os.path.basename(ligand_path).split('.')[0]   # ambil nama tanpa ekstensi\n",
    "    output_path = f\"data/docking/{ligand_name}_out.pdbqt\"\n",
    "    log_path = f\"data/docking/{ligand_name}_log.txt\"\n",
    "    \n",
    "    vina_cmd = (\n",
    "        f\"vina --receptor {receptor_path} --ligand {ligand_path} \"\n",
    "        f\"--center_x {center_x} --center_y {center_y} --center_z {center_z} \"\n",
    "        f\"--size_x {size_x} --size_y {size_y} --size_z {size_z} \"\n",
    "        f\"--out {output_path} --log {log_path} --exhaustiveness 32\"\n",
    "    )\n",
    "    \n",
    "    print(f\"Menjalankan Vina untuk {ligand_name}...\")\n",
    "    os.system(vina_cmd)\n",
    "    \n",
    "    # Parse log file untuk mendapatkan skor terbaik\n",
    "    try:\n",
    "        with open(log_path, 'r') as f:\n",
    "            for line in f:\n",
    "                if line.strip().startswith(\"1 \"):  # baris pertama tabel hasil\n",
    "                    score = float(line.split()[1])  # kolom kedua = skor docking\n",
    "                    print(f\"Skor docking terbaik untuk {ligand_name}: {score} kcal/mol\")\n",
    "                    return score, output_path\n",
    "    except Exception as e:\n",
    "        print(f\"Gagal mem-parsing log file: {e}\")\n",
    "        return None, None\n",
    "    \n",
    "    return None, None\n",
    "\n",
    "\n",
    "# Koordinat pusat binding pocket EGFR (ditentukan dari PDB 2GS2)\n",
    "CENTER_X, CENTER_Y, CENTER_Z = 15.5, -1.0, 21.5\n",
    "\n",
    "# Jalankan docking untuk semua kandidat\n",
    "docking_scores = []\n",
    "output_poses = []\n",
    "\n",
    "for i, path in enumerate(ligand_pdbqt_paths):\n",
    "    score, pose_path = run_vina_docking(receptor_pdbqt, path, CENTER_X, CENTER_Y, CENTER_Z)\n",
    "    docking_scores.append(score)\n",
    "    output_poses.append(pose_path)\n",
    "\n",
    "# Tambahkan hasil docking ke dataframe kandidat\n",
    "top_candidates_df['docking_score_kcal_mol'] = docking_scores\n",
    "top_candidates_df['output_pose_path'] = output_poses\n",
    "\n",
    "print(\"\\n--- Hasil Akhir dengan Skor Docking ---\")\n",
    "display(top_candidates_df)"
   ]
  },
  {
   "cell_type": "markdown",
   "id": "d44636d1",
   "metadata": {},
   "source": [
    "Hasilnya adalah sebuah tabel yang diperkaya dengan skor docking. Skor ini memberikan lapisan validasi tambahan. Kandidat yang memiliki prediksi pIC50 tinggi dan skor docking yang rendah (sangat negatif) adalah kandidat yang paling menjanjikan untuk sintesis dan pengujian di laboratorium."
   ]
  }
 ],
 "metadata": {
  "kernelspec": {
   "display_name": "myenv311",
   "language": "python",
   "name": "python3"
  },
  "language_info": {
   "codemirror_mode": {
    "name": "ipython",
    "version": 3
   },
   "file_extension": ".py",
   "mimetype": "text/x-python",
   "name": "python",
   "nbconvert_exporter": "python",
   "pygments_lexer": "ipython3",
   "version": "3.11.13"
  }
 },
 "nbformat": 4,
 "nbformat_minor": 5
}
